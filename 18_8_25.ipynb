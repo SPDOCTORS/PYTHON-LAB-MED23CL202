{
  "nbformat": 4,
  "nbformat_minor": 0,
  "metadata": {
    "colab": {
      "provenance": [],
      "authorship_tag": "ABX9TyOEPAc4MmNP3UZ15BIuNXhs",
      "include_colab_link": true
    },
    "kernelspec": {
      "name": "python3",
      "display_name": "Python 3"
    },
    "language_info": {
      "name": "python"
    }
  },
  "cells": [
    {
      "cell_type": "markdown",
      "metadata": {
        "id": "view-in-github",
        "colab_type": "text"
      },
      "source": [
        "<a href=\"https://colab.research.google.com/github/SPDOCTORS/PYTHON-LAB-MED23CL202/blob/main/18_8_25.ipynb\" target=\"_parent\"><img src=\"https://colab.research.google.com/assets/colab-badge.svg\" alt=\"Open In Colab\"/></a>"
      ]
    },
    {
      "cell_type": "code",
      "execution_count": null,
      "metadata": {
        "id": "4ebVFZWHgmIq",
        "colab": {
          "base_uri": "https://localhost:8080/"
        },
        "outputId": "ea4a1d30-a65a-4e69-91d6-637b8bfd0d7f"
      },
      "outputs": [
        {
          "output_type": "stream",
          "name": "stdout",
          "text": [
            "\n",
            "=== Grocery Store Menu===\n",
            "1.Show Products\n",
            "2.Add Product\n",
            "3.Remove from Cart\n",
            "4.View Cart\n",
            "5.Checkout and Exit\n",
            "Enter your choice (1/2/3/4/5): 1\n",
            "Showing Products\n",
            "\n",
            "=== Grocery Store Menu===\n",
            "1.Show Products\n",
            "2.Add Product\n",
            "3.Remove from Cart\n",
            "4.View Cart\n",
            "5.Checkout and Exit\n",
            "Enter your choice (1/2/3/4/5): 1\n",
            "Showing Products\n",
            "\n",
            "=== Grocery Store Menu===\n",
            "1.Show Products\n",
            "2.Add Product\n",
            "3.Remove from Cart\n",
            "4.View Cart\n",
            "5.Checkout and Exit\n"
          ]
        }
      ],
      "source": [
        "#Step 7: Main Program Loop\n",
        "#To develop a menu driven application\n",
        "while True:\n",
        "  print(\"\\n=== Grocery Store Menu===\")\n",
        "  print(\"1.Show Products\")\n",
        "  print(\"2.Add Product\")\n",
        "  print(\"3.Remove from Cart\")\n",
        "  print(\"4.View Cart\")\n",
        "  print(\"5.Checkout and Exit\")\n",
        "\n",
        "  choice = input(\"Enter your choice (1/2/3/4/5): \")\n",
        "\n",
        "  if choice == '1':\n",
        "    print(\"Showing Products\")\n",
        "  elif choice == '2':\n",
        "    print(\"Adding Product\")\n",
        "  elif choice == '3':\n",
        "    print(\"Removing from Cart\")\n",
        "  elif choice == '4':\n",
        "    print(\"View Cart\")\n",
        "  elif choice == '5':\n",
        "    print(\"Checkout and Exit\")\n",
        "    print(\"Thank you\")\n",
        "    break #REMOVE THE EXECUTION OF IF STATEMENT\n",
        "\n",
        "  else:\n",
        "    print(\"Invalid Choice!\")\n"
      ]
    },
    {
      "cell_type": "code",
      "source": [
        "#Step 4: Add to Cart\n",
        "def add_to_cart():\n",
        "  print(\"\\n=== Add to Cart ===\")\n",
        "  show_products()\n",
        "  choice = input(\"Enter the product number to add to cart: \")\n",
        "  if choice.isdigit() and 1 <= int(choice) <= len(products):\n",
        "    index = int(choice) - 1\n",
        "    cart.append(products[index])\n",
        "    print(f\"{products[index]} added to cart.\")\n",
        "  else:\n",
        "    print(\"Invalid choice!\")\n",
        "add_to_cart()"
      ],
      "metadata": {
        "id": "LVxkGVKi0WEO"
      },
      "execution_count": null,
      "outputs": []
    },
    {
      "cell_type": "code",
      "source": [
        "#Step 4: Remove from Cart\n",
        "def remove_from_cart():\n",
        "  if not cart:\n",
        "    print(\"Your cart is empty.\")\n",
        "    return\n",
        "  show_cart()\n",
        "  choice = input(\"Enter the product number to remove from cart: \")\n",
        "  if choice.isdigit() and 1 <= int(choice) <= len(cart):\n",
        "    index = int(choice) - 1\n",
        "    removed_item = cart.pop(index)\n",
        "    print(f\"{removed_item} removed from cart.\")\n",
        "  else:\n",
        "    print(\"Invalid choice!\")\n",
        "remove_from_cart()\n"
      ],
      "metadata": {
        "id": "JHuU37qF1znq"
      },
      "execution_count": null,
      "outputs": []
    },
    {
      "cell_type": "code",
      "source": [
        "#Step 5:View from Cart\n",
        "def show_cart():\n",
        "  if not cart:\n",
        "    print(\"Your cart is empty.\")\n",
        "    return\n",
        "  print(\"\\n=== Your Cart ===\")\n",
        "  for i,item in enumerate(cart):\n",
        "    print(f\"{i+1}.{item}\")\n",
        "show_cart()"
      ],
      "metadata": {
        "id": "yHEriQYR2que"
      },
      "execution_count": null,
      "outputs": []
    },
    {
      "cell_type": "code",
      "source": [
        "#Step1: Available Products and Prices\n",
        "products=[\"Apple\",\"Banana\",\"Milk\",\"Bread\",\"Eggs\"]\n",
        "prices=[30,23,45,67,4]\n",
        "#Step 2:Empty Cart\n",
        "cart=[]\n",
        "#Step3:Define\n",
        "def show_products():\n",
        "  print(\"\\n The Available Products\")\n",
        "  for i,item in enumerate(products):\n",
        "    print(f\"{i+1}.{item} - ${prices[i]}\")\n",
        "show_products()\n",
        "\n",
        "#"
      ],
      "metadata": {
        "colab": {
          "base_uri": "https://localhost:8080/"
        },
        "id": "WZ0tw9LyxsmI",
        "outputId": "590a9018-2a45-4ed3-9b74-2c67bbfb20e4"
      },
      "execution_count": 2,
      "outputs": [
        {
          "output_type": "stream",
          "name": "stdout",
          "text": [
            "\n",
            " The Available Products\n",
            "1.Apple - $30\n",
            "2.Banana - $23\n",
            "3.Milk - $45\n",
            "4.Bread - $67\n",
            "5.Eggs - $4\n"
          ]
        }
      ]
    }
  ]
}