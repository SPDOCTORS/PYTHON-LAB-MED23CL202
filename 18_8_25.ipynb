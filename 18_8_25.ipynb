{
  "nbformat": 4,
  "nbformat_minor": 0,
  "metadata": {
    "colab": {
      "provenance": [],
      "authorship_tag": "ABX9TyPSnU+jZYZJNj4ViyUB+fr5",
      "include_colab_link": true
    },
    "kernelspec": {
      "name": "python3",
      "display_name": "Python 3"
    },
    "language_info": {
      "name": "python"
    }
  },
  "cells": [
    {
      "cell_type": "markdown",
      "metadata": {
        "id": "view-in-github",
        "colab_type": "text"
      },
      "source": [
        "<a href=\"https://colab.research.google.com/github/SPDOCTORS/PYTHON-LAB-MED23CL202/blob/main/18_8_25.ipynb\" target=\"_parent\"><img src=\"https://colab.research.google.com/assets/colab-badge.svg\" alt=\"Open In Colab\"/></a>"
      ]
    },
    {
      "cell_type": "code",
      "execution_count": null,
      "metadata": {
        "id": "4ebVFZWHgmIq"
      },
      "outputs": [],
      "source": [
        "#Step 7: Main Program Loop\n",
        "#To develop a menu driven application\n",
        "while True:\n",
        "  print(\"\\n=== Grocery Store Menu===\")\n",
        "  print(\"1.Show Products\")\n",
        "  print(\"2.Add Product\")\n",
        "  print(\"3.Remove from Cart\")\n",
        "  print(\"4.View Cart\")\n",
        "  print(\"5.Checkout and Exit\")\n",
        "\n",
        "  choice = input(\"Enter your choice (1/2/3/4/5): \")\n",
        "\n",
        "  if choice == '1':\n",
        "    print(\"Showing Products\")\n",
        "  elif choice == '2':\n",
        "    print(\"Adding Product\")\n",
        "  elif choice == '3':\n",
        "    print(\"Removing from Cart\")\n",
        "  elif choice == '4':\n",
        "    print(\"View Cart\")\n",
        "  elif choice == '5':\n",
        "    print(\"Checkout and Exit\")\n",
        "    print(\"Thank you\")\n",
        "    break #REMOVE THE EXECUTION OF IF STATEMENT\n",
        "\n",
        "  else:\n",
        "    print(\"Invalid Choice!\")\n"
      ]
    }
  ]
}