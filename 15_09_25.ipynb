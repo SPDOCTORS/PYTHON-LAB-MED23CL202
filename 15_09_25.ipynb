{
  "nbformat": 4,
  "nbformat_minor": 0,
  "metadata": {
    "colab": {
      "provenance": [],
      "authorship_tag": "ABX9TyO89IWN1pwg35UVMcNQvULM",
      "include_colab_link": true
    },
    "kernelspec": {
      "name": "python3",
      "display_name": "Python 3"
    },
    "language_info": {
      "name": "python"
    }
  },
  "cells": [
    {
      "cell_type": "markdown",
      "metadata": {
        "id": "view-in-github",
        "colab_type": "text"
      },
      "source": [
        "<a href=\"https://colab.research.google.com/github/SPDOCTORS/PYTHON-LAB-MED23CL202/blob/main/15_09_25.ipynb\" target=\"_parent\"><img src=\"https://colab.research.google.com/assets/colab-badge.svg\" alt=\"Open In Colab\"/></a>"
      ]
    },
    {
      "cell_type": "code",
      "execution_count": null,
      "metadata": {
        "id": "Z2rC042lxVYT"
      },
      "outputs": [],
      "source": [
        "import matplotlib.pyplot as plt\n",
        "students=[\"Cristiano\",\"Mbappe\",\"Ramos\"]\n",
        "fees=[3000,3400,2400]\n",
        "plt.pie(fees, labels=students, autopct='%1.1f%%')\n",
        "plt.show()"
      ]
    }
  ]
}