{
  "nbformat": 4,
  "nbformat_minor": 0,
  "metadata": {
    "colab": {
      "provenance": [],
      "authorship_tag": "ABX9TyMwNU0qGtB1OcP3j9dtkjRW",
      "include_colab_link": true
    },
    "kernelspec": {
      "name": "python3",
      "display_name": "Python 3"
    },
    "language_info": {
      "name": "python"
    }
  },
  "cells": [
    {
      "cell_type": "markdown",
      "metadata": {
        "id": "view-in-github",
        "colab_type": "text"
      },
      "source": [
        "<a href=\"https://colab.research.google.com/github/SPDOCTORS/SPDOCTORS/blob/main/11_8_25.ipynb\" target=\"_parent\"><img src=\"https://colab.research.google.com/assets/colab-badge.svg\" alt=\"Open In Colab\"/></a>"
      ]
    },
    {
      "cell_type": "code",
      "execution_count": null,
      "metadata": {
        "colab": {
          "base_uri": "https://localhost:8080/"
        },
        "id": "CSa8s4v-gkJ0",
        "outputId": "4b0ac478-5207-4b23-8374-bec48796b5e1"
      },
      "outputs": [
        {
          "output_type": "stream",
          "name": "stdout",
          "text": [
            "16\n"
          ]
        }
      ],
      "source": [
        "def running_sum(nums):\n",
        "    total = 0\n",
        "    for num in nums:\n",
        "        total += num\n",
        "    return total\n",
        "\n",
        "print(running_sum([1,3,5,7]))\n",
        "\n"
      ]
    },
    {
      "cell_type": "code",
      "source": [
        "def count_even(nums):\n",
        "  count=0\n",
        "  for num in nums:\n",
        "    if num%2 == 0:\n",
        "      count+=1\n",
        "  return count\n",
        "\n",
        "print(count_even([1,2,3,4]))\n"
      ],
      "metadata": {
        "colab": {
          "base_uri": "https://localhost:8080/"
        },
        "id": "gGc_gKf-iLD3",
        "outputId": "26b8156e-ea8d-4043-8dad-161298bef87a"
      },
      "execution_count": null,
      "outputs": [
        {
          "output_type": "stream",
          "name": "stdout",
          "text": [
            "2\n"
          ]
        }
      ]
    },
    {
      "cell_type": "code",
      "source": [
        "def reverse_list(nums):\n",
        "  return nums[::-1]\n",
        "\n",
        "print(reverse_list([1,3,4,7]))"
      ],
      "metadata": {
        "colab": {
          "base_uri": "https://localhost:8080/"
        },
        "id": "cf3EtMTsko_3",
        "outputId": "db59a7da-b20c-41a0-d88e-f900ec62474f"
      },
      "execution_count": null,
      "outputs": [
        {
          "output_type": "stream",
          "name": "stdout",
          "text": [
            "[7, 4, 3, 1]\n"
          ]
        }
      ]
    },
    {
      "cell_type": "code",
      "source": [
        "#Find Maximum Number in the list\n",
        "#Input:[3,4,5,6]\n",
        "#output:6\n",
        "def find_Max(nums):\n",
        "  max_num=nums[0]\n",
        "  for n in nums:\n",
        "    if n>max_num:\n",
        "      max_num=n\n",
        "  return max_num\n",
        "\n",
        "print(find_Max([1,2,4,8]))"
      ],
      "metadata": {
        "colab": {
          "base_uri": "https://localhost:8080/"
        },
        "id": "0ZJ44ULXoLzS",
        "outputId": "67196c18-7110-4f6f-ccd7-eb7e48c62550"
      },
      "execution_count": null,
      "outputs": [
        {
          "output_type": "stream",
          "name": "stdout",
          "text": [
            "8\n"
          ]
        }
      ]
    },
    {
      "cell_type": "code",
      "source": [
        "def find_min(nums):\n",
        "  min_num=nums[0]\n",
        "  for n in nums:\n",
        "    if n<min_num:\n",
        "      min_num=n\n",
        "    elif n>min_num:\n",
        "      max_num=n\n",
        "    else:\n",
        "      return n\n",
        "  return min_num\n",
        "\n",
        "print(find_min([1,2,3]))"
      ],
      "metadata": {
        "colab": {
          "base_uri": "https://localhost:8080/"
        },
        "id": "mPwD_2ydo2Iq",
        "outputId": "4799464e-563f-4105-c0d9-306480b70985"
      },
      "execution_count": null,
      "outputs": [
        {
          "output_type": "stream",
          "name": "stdout",
          "text": [
            "1\n"
          ]
        }
      ]
    }
  ]
}