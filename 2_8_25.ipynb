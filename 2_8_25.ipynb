{
  "nbformat": 4,
  "nbformat_minor": 0,
  "metadata": {
    "colab": {
      "provenance": [],
      "authorship_tag": "ABX9TyMKBxGXU3RguGUx/oW5JYYk",
      "include_colab_link": true
    },
    "kernelspec": {
      "name": "python3",
      "display_name": "Python 3"
    },
    "language_info": {
      "name": "python"
    }
  },
  "cells": [
    {
      "cell_type": "markdown",
      "metadata": {
        "id": "view-in-github",
        "colab_type": "text"
      },
      "source": [
        "<a href=\"https://colab.research.google.com/github/SPDOCTORS/SPDOCTORS/blob/main/2_8_25.ipynb\" target=\"_parent\"><img src=\"https://colab.research.google.com/assets/colab-badge.svg\" alt=\"Open In Colab\"/></a>"
      ]
    },
    {
      "cell_type": "code",
      "execution_count": null,
      "metadata": {
        "id": "x6uIVaezdpM-"
      },
      "outputs": [],
      "source": [
        "def running_sum(nums):\n",
        "    result = []\n",
        "    total = 0\n",
        "    for n in nums:\n",
        "        total += n\n",
        "    return result\n",
        "\n",
        "print(running_sum([-1,-2,-3,-4]))"
      ]
    }
  ]
}